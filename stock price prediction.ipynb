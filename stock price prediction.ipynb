{
 "cells": [
  {
   "cell_type": "code",
   "execution_count": null,
   "id": "03954be1-233b-4a98-82cb-8fd5f6be8d8f",
   "metadata": {},
   "outputs": [],
   "source": [
    "import numpy as np\n",
    "import pandas as pd\n",
    "from sklearn.preprocessing import MinMaxScaler\n",
    "import matplotlib.pyplot as plt\n",
    "import torch\n",
    "import torch.nn as nn"
   ]
  },
  {
   "cell_type": "code",
   "execution_count": null,
   "id": "4e7b0597-620e-4368-a34c-9e2b78942fd1",
   "metadata": {},
   "outputs": [],
   "source": [
    "df = pd.read_csv(netflix.csv)\n",
    "closed_prices = df[\"Close\"]\n",
    "seq_len = 15\n",
    "scaled_price = mm.fit_transform(np.array(closed_prices)[... , None]).squeeze()\n",
    "X = []\n",
    "y = []\n"
   ]
  },
  {
   "cell_type": "code",
   "execution_count": null,
   "id": "bfa71a68-f088-49b8-a215-d4af49e963ea",
   "metadata": {},
   "outputs": [],
   "source": [
    "for i in range(len(scaled_price) - seq_len):\n",
    "    X.append(scaled_price[i : i + seq_len])\n",
    "    y.append(scaled_price[i + seq_len])\n",
    "\n",
    "X = np.array(X)[... , None]\n",
    "y = np.array(y)[... , None]"
   ]
  },
  {
   "cell_type": "code",
   "execution_count": null,
   "id": "91ecf2a1-6083-4040-b657-148742ed2485",
   "metadata": {},
   "outputs": [],
   "source": [
    "train_x = torch.from_numpy(X[:int(0.8 * X.shape[0])]).float()\n",
    "train_y = torch.from_numpy(y[:int(0.8 * X.shape[0])]).float()\n",
    "test_x = torch.from_numpy(X[int(0.8 * X.shape[0]):]).float()\n",
    "test_y = torch.from_numpy(y[int(0.8 * X.shape[0]):]).float()\n",
    "\n",
    "       "
   ]
  },
  {
   "cell_type": "code",
   "execution_count": null,
   "id": "a9b53083-fca4-4a57-86b0-47bebabfe2e8",
   "metadata": {},
   "outputs": [],
   "source": [
    "class Model(nn.Module):\n",
    "    def _init_(self , input_size , hidden_size):\n",
    "        super()._init_()\n",
    "        self.lstm = nn.LSTM(input_size , hidden_size , batch_first = True)\n",
    "        self.fc = nn.Linear(hidden_size , 1)\n",
    "    def forward(self , x):\n",
    "        output , (hidden , cell) = self.lstm(x)\n",
    "        return self.fc(hidden[-1 , :])\n",
    "model = Model(1 , 64)"
   ]
  },
  {
   "cell_type": "code",
   "execution_count": null,
   "id": "9a9f1f1b-e7ce-4f2b-bfcc-7c2292146217",
   "metadata": {},
   "outputs": [],
   "source": [
    "optimizer = torch.optim.Adam(model.parameters() , lr = 0.001)\n",
    "loss_fn = nn.MSELoss()\n",
    "\n"
   ]
  },
  {
   "cell_type": "code",
   "execution_count": null,
   "id": "8226af54-f768-4e62-a0cf-02934d622ff4",
   "metadata": {},
   "outputs": [],
   "source": [
    "num_epochs = 100"
   ]
  },
  {
   "cell_type": "code",
   "execution_count": null,
   "id": "6ad95d01-4f16-4ca9-8ec3-a971bb8b24f2",
   "metadata": {},
   "outputs": [],
   "source": [
    "for epoch in range(num_epochs):\n",
    "    output = model(train_x)\n",
    "    loss = loss_fn(output , train_y)"
   ]
  },
  {
   "cell_type": "code",
   "execution_count": null,
   "id": "fc890462-3b46-47d8-8e7b-c29601d4b0a9",
   "metadata": {},
   "outputs": [],
   "source": [
    " optimizer.zero_grad()\n",
    "    loss.backward()\n",
    "    optimizer.step()"
   ]
  },
  {
   "cell_type": "code",
   "execution_count": null,
   "id": "4e269c8c-771e-430d-8b88-5805c4333d33",
   "metadata": {},
   "outputs": [],
   "source": [
    " if epoch % 10 == 0 and epoch != 0:\n",
    "        print(epoch , \"epoch loss\" , loss.detach().numpy())\n",
    "\n"
   ]
  },
  {
   "cell_type": "code",
   "execution_count": null,
   "id": "d2719fdc-5edb-41c7-924b-d7bd26376105",
   "metadata": {},
   "outputs": [],
   "source": [
    "cmodel.eval()\n",
    "with torch.no_grad():\n",
    "    output = model(test_x)"
   ]
  },
  {
   "cell_type": "code",
   "execution_count": null,
   "id": "88e4ecaf-0b59-4150-9370-57c8327ce151",
   "metadata": {},
   "outputs": [],
   "source": [
    "pred = mm.inverse_transform(output.numpy())\n",
    "real = mm.inverse_transform(test_y.numpy())\n",
    "\n"
   ]
  },
  {
   "cell_type": "code",
   "execution_count": null,
   "id": "5eb1ea38-e3ca-46ed-81a3-13f109cb2cf9",
   "metadata": {},
   "outputs": [],
   "source": [
    "plt.plot(pred.squeeze() , color = \"red\" , label = \"predicted\")\n",
    "plt.plot(real.squeeze() , color = \"green\" , label = \"real\")\n",
    "plt.show()"
   ]
  }
 ],
 "metadata": {
  "kernelspec": {
   "display_name": "Python 3 (ipykernel)",
   "language": "python",
   "name": "python3"
  },
  "language_info": {
   "codemirror_mode": {
    "name": "ipython",
    "version": 3
   },
   "file_extension": ".py",
   "mimetype": "text/x-python",
   "name": "python",
   "nbconvert_exporter": "python",
   "pygments_lexer": "ipython3",
   "version": "3.13.2"
  }
 },
 "nbformat": 4,
 "nbformat_minor": 5
}
